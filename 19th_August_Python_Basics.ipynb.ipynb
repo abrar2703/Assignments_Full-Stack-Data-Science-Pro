{
 "cells": [
  {
   "cell_type": "raw",
   "id": "1a921f14-3619-4687-a216-90a9f1f8a373",
   "metadata": {},
   "source": [
    "1. Declare two variables, `x` and `y`, and assign them integer values. Swap the values of these variables without using any temporary variable."
   ]
  },
  {
   "cell_type": "code",
   "execution_count": 3,
   "id": "c88e5383-9b89-41e9-8594-65d563a1c9f6",
   "metadata": {},
   "outputs": [
    {
     "name": "stdout",
     "output_type": "stream",
     "text": [
      "x= 4 y= 8\n"
     ]
    }
   ],
   "source": [
    "x=8 \n",
    "y=4\n",
    "\n",
    "#variable created x and y then 5,6 are integers assgined\n",
    "y=x+y\n",
    "x=y-x\n",
    "y=y-x\n",
    "\n",
    "print(\"x=\",x,\"y=\",y)"
   ]
  },
  {
   "cell_type": "raw",
   "id": "7f4cc052-f2be-464c-a57d-a9b3f10cd5c5",
   "metadata": {},
   "source": [
    "2. Create a program that calculates the area of a rectangle. Take the length and width as inputs from the user and store them in variables. Calculate and display the area."
   ]
  },
  {
   "cell_type": "code",
   "execution_count": 4,
   "id": "f0a80e85-0d51-4e9b-a16a-d2136fdb5858",
   "metadata": {},
   "outputs": [
    {
     "name": "stdin",
     "output_type": "stream",
     "text": [
      "Enter the length of rectangle: 3\n",
      "Enter the Width of rectangle: 4\n"
     ]
    },
    {
     "name": "stdout",
     "output_type": "stream",
     "text": [
      "Area of rectangle: 12\n"
     ]
    }
   ],
   "source": [
    "Len_rect=int(input(\"Enter the length of rectangle:\"))\n",
    "Wid_rect=int(input(\"Enter the Width of rectangle:\"))\n",
    "Area=Len_rect*Wid_rect\n",
    "print(\"Area of rectangle:\",Area)"
   ]
  },
  {
   "cell_type": "raw",
   "id": "09c21e25-e7af-4d9f-8212-edba1217b10e",
   "metadata": {},
   "source": [
    "3. Write a Python program that converts temperatures from Celsius to Fahrenheit. Take the temperature in Celsius as input, store it in a Variable, convert it to Fahrenheit, and display the result."
   ]
  },
  {
   "cell_type": "code",
   "execution_count": 5,
   "id": "f86e9e56-3cca-40cd-b843-e648379782bd",
   "metadata": {},
   "outputs": [
    {
     "name": "stdin",
     "output_type": "stream",
     "text": [
      "Enter temperatue in Celsius: 15\n"
     ]
    },
    {
     "name": "stdout",
     "output_type": "stream",
     "text": [
      "Temperature in Fahrenheit: 59.0\n"
     ]
    }
   ],
   "source": [
    "Temp=int(input(\"Enter temperatue in Celsius:\"))\n",
    "F=((Temp * 1.8) + 32)\n",
    "print(\"Temperature in Fahrenheit:\",F)\n"
   ]
  },
  {
   "cell_type": "raw",
   "id": "1f1323a9-079b-44d9-b88c-c6b685cb702b",
   "metadata": {},
   "source": [
    "1. Write a Python program that takes a string as input and prints the length of the string."
   ]
  },
  {
   "cell_type": "code",
   "execution_count": 6,
   "id": "767436a2-f77d-4d7d-8aee-d99e762f2ec6",
   "metadata": {},
   "outputs": [
    {
     "name": "stdin",
     "output_type": "stream",
     "text": [
      "Enter the String: DataScience\n"
     ]
    },
    {
     "name": "stdout",
     "output_type": "stream",
     "text": [
      "length of the string is: 11\n"
     ]
    }
   ],
   "source": [
    "String=input(\"Enter the String:\")\n",
    "Length=len(String)\n",
    "print(\"length of the string is:\",Length)"
   ]
  },
  {
   "cell_type": "raw",
   "id": "ca5cb34c-2b44-421e-b2a6-df4075517289",
   "metadata": {},
   "source": [
    "2. Create a program that takes a sentence from the user and counts the number of vowels (a, e, i, o, u) in the string."
   ]
  },
  {
   "cell_type": "code",
   "execution_count": 7,
   "id": "11a94522-3e3f-48c1-99a2-e71bc14f712f",
   "metadata": {},
   "outputs": [
    {
     "name": "stdin",
     "output_type": "stream",
     "text": [
      "Enter the String: Data Science is a future \n"
     ]
    },
    {
     "name": "stdout",
     "output_type": "stream",
     "text": [
      "No of Vowels in a sentence: 10\n"
     ]
    }
   ],
   "source": [
    "String=input(\"Enter the String:\")\n",
    "vowels = \"aeiouAEIOU\"\n",
    "count = sum(String.count(vowel) for vowel in vowels)\n",
    "print(\"No of Vowels in a sentence:\",count)"
   ]
  },
  {
   "cell_type": "raw",
   "id": "59c80fe5-15a5-4370-b343-25986310ad53",
   "metadata": {},
   "source": [
    "3. Given a string, reverse the order of characters using string slicing and print the reversed string."
   ]
  },
  {
   "cell_type": "code",
   "execution_count": 8,
   "id": "40ec2221-de67-4ac0-a26e-82f9acf2a19d",
   "metadata": {},
   "outputs": [
    {
     "name": "stdin",
     "output_type": "stream",
     "text": [
      "Enter the String: Datascience\n"
     ]
    },
    {
     "name": "stdout",
     "output_type": "stream",
     "text": [
      "Reverse String is: ecneicsataD\n"
     ]
    }
   ],
   "source": [
    "String=input(\"Enter the String:\")\n",
    "Rev= String[::-1]\n",
    "print(\"Reverse String is:\",Rev)"
   ]
  },
  {
   "cell_type": "markdown",
   "id": "2b52803b-0a81-4487-8e07-eec0148973b7",
   "metadata": {},
   "source": [
    "4. Write a program that takes a string as input and checks if it is a palindrome (reads the same forwards and backwards)."
   ]
  },
  {
   "cell_type": "code",
   "execution_count": 9,
   "id": "c6b10c5c-b8a2-4695-b84d-353bf513ab49",
   "metadata": {},
   "outputs": [
    {
     "name": "stdin",
     "output_type": "stream",
     "text": [
      "Enter the String: madam\n"
     ]
    },
    {
     "name": "stdout",
     "output_type": "stream",
     "text": [
      "Given String is a Palindrome\n"
     ]
    }
   ],
   "source": [
    "String=input(\"Enter the String:\")\n",
    "Rev= String[::-1]\n",
    "if (String==Rev):\n",
    "    print(\"Given String is a Palindrome\")\n",
    "else:\n",
    "    print(\"Given String is not a Palindrome\")"
   ]
  },
  {
   "cell_type": "markdown",
   "id": "f61db721-45dd-4a4b-9125-21d08607ab8c",
   "metadata": {},
   "source": [
    "5.Create a program that takes a string as input and removes all the spaces from it. Print the modified string without spaces."
   ]
  },
  {
   "cell_type": "code",
   "execution_count": 1,
   "id": "d2c32e4e-62c6-45dc-bcee-56ecc38e4a5b",
   "metadata": {},
   "outputs": [
    {
     "name": "stdin",
     "output_type": "stream",
     "text": [
      "Enter the String:  s f gf\n"
     ]
    },
    {
     "name": "stdout",
     "output_type": "stream",
     "text": [
      "Trimmed text: sfgf\n"
     ]
    }
   ],
   "source": [
    "String=input(\"Enter the String:\")\n",
    "# I have used split to breakdown the string into indivial characcters,then joined all the charcters using join function.\n",
    "trimmed_String = \"\".join(String.split())\n",
    "print(\"Trimmed text:\",trimmed_String)"
   ]
  }
 ],
 "metadata": {
  "kernelspec": {
   "display_name": "Python 3 (ipykernel)",
   "language": "python",
   "name": "python3"
  },
  "language_info": {
   "codemirror_mode": {
    "name": "ipython",
    "version": 3
   },
   "file_extension": ".py",
   "mimetype": "text/x-python",
   "name": "python",
   "nbconvert_exporter": "python",
   "pygments_lexer": "ipython3",
   "version": "3.10.8"
  }
 },
 "nbformat": 4,
 "nbformat_minor": 5
}
